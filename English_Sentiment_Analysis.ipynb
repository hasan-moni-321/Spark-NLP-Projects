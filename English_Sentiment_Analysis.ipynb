{
  "nbformat": 4,
  "nbformat_minor": 0,
  "metadata": {
    "colab": {
      "name": "English_Sentiment_Analysis.ipynb",
      "provenance": [],
      "collapsed_sections": []
    },
    "kernelspec": {
      "name": "python3",
      "display_name": "Python 3"
    },
    "language_info": {
      "name": "python"
    }
  },
  "cells": [
    {
      "cell_type": "code",
      "metadata": {
        "id": "f_vMBFqFRzmC",
        "colab": {
          "base_uri": "https://localhost:8080/"
        },
        "outputId": "854e6ef8-ccc9-4e22-beb8-8235b1a0999b"
      },
      "source": [
        "!wget http://setup.johnsnowlabs.com/colab.sh -O - | bash "
      ],
      "execution_count": 1,
      "outputs": [
        {
          "output_type": "stream",
          "name": "stdout",
          "text": [
            "--2021-11-08 03:11:46--  http://setup.johnsnowlabs.com/colab.sh\n",
            "Resolving setup.johnsnowlabs.com (setup.johnsnowlabs.com)... 51.158.130.125\n",
            "Connecting to setup.johnsnowlabs.com (setup.johnsnowlabs.com)|51.158.130.125|:80... connected.\n",
            "HTTP request sent, awaiting response... 302 Found\n",
            "Location: https://setup.johnsnowlabs.com/colab.sh [following]\n",
            "--2021-11-08 03:11:46--  https://setup.johnsnowlabs.com/colab.sh\n",
            "Connecting to setup.johnsnowlabs.com (setup.johnsnowlabs.com)|51.158.130.125|:443... connected.\n",
            "HTTP request sent, awaiting response... 302 Moved Temporarily\n",
            "Location: https://raw.githubusercontent.com/JohnSnowLabs/spark-nlp/master/scripts/colab_setup.sh [following]\n",
            "--2021-11-08 03:11:46--  https://raw.githubusercontent.com/JohnSnowLabs/spark-nlp/master/scripts/colab_setup.sh\n",
            "Resolving raw.githubusercontent.com (raw.githubusercontent.com)... 185.199.111.133, 185.199.108.133, 185.199.109.133, ...\n",
            "Connecting to raw.githubusercontent.com (raw.githubusercontent.com)|185.199.111.133|:443... connected.\n",
            "HTTP request sent, awaiting response... 200 OK\n",
            "Length: 1275 (1.2K) [text/plain]\n",
            "Saving to: ‘STDOUT’\n",
            "\n",
            "-                   100%[===================>]   1.25K  --.-KB/s    in 0s      \n",
            "\n",
            "2021-11-08 03:11:46 (51.7 MB/s) - written to stdout [1275/1275]\n",
            "\n",
            "setup Colab for PySpark 3.0.3 and Spark NLP 3.3.2\n",
            "Installing PySpark 3.0.3 and Spark NLP 3.3.2\n",
            "\u001b[K     |████████████████████████████████| 209.1 MB 60 kB/s \n",
            "\u001b[K     |████████████████████████████████| 130 kB 57.0 MB/s \n",
            "\u001b[K     |████████████████████████████████| 198 kB 70.4 MB/s \n",
            "\u001b[?25h  Building wheel for pyspark (setup.py) ... \u001b[?25l\u001b[?25hdone\n"
          ]
        }
      ]
    },
    {
      "cell_type": "code",
      "metadata": {
        "id": "M1cuLZMORzrE",
        "colab": {
          "base_uri": "https://localhost:8080/"
        },
        "outputId": "192bfe30-ed85-41a6-f319-cbd5315d2f18"
      },
      "source": [
        "import sparknlp\n",
        "spark = sparknlp.start()\n",
        "\n",
        "print(\"Spark NLP version: {}\".format(sparknlp.version()))\n",
        "print(\"Apache Spark version: {}\".format(spark.version))"
      ],
      "execution_count": 2,
      "outputs": [
        {
          "output_type": "stream",
          "name": "stdout",
          "text": [
            "Spark NLP version: 3.3.2\n",
            "Apache Spark version: 3.0.3\n"
          ]
        }
      ]
    },
    {
      "cell_type": "code",
      "metadata": {
        "id": "gIQiA5cDmtJC"
      },
      "source": [
        "import numpy as np \n",
        "import pandas as pd \n",
        "import matplotlib.pyplot as plt \n",
        "import seaborn as sns \n",
        "\n",
        "from sklearn.metrics import classification_report, confusion_matrix, accuracy_score\n",
        "\n",
        "from sparknlp.base import *\n",
        "from sparknlp.annotator import *\n",
        "\n",
        "from pyspark.sql.functions import col \n",
        "from sparknlp.pretrained import PretrainedPipeline"
      ],
      "execution_count": 79,
      "outputs": []
    },
    {
      "cell_type": "code",
      "metadata": {
        "id": "asbXk-uORzuX",
        "colab": {
          "base_uri": "https://localhost:8080/"
        },
        "outputId": "7b4a74aa-6608-4312-f006-aa5aa12fc5a1"
      },
      "source": [
        "train_dataset = spark.read.option('header', True).csv(\"/content/drive/MyDrive/AAA/sentiment_dataset/aclimdb_train.csv\")\n",
        "train_dataset.show(5) "
      ],
      "execution_count": 4,
      "outputs": [
        {
          "output_type": "stream",
          "name": "stdout",
          "text": [
            "+--------------------+--------+\n",
            "|                text|   label|\n",
            "+--------------------+--------+\n",
            "|This is an Excell...|positive|\n",
            "|The Sarah Silverm...|positive|\n",
            "|\"Prom Night\" is a...|negative|\n",
            "|So often a band w...|positive|\n",
            "|\"Pet Sematary\" is...|positive|\n",
            "+--------------------+--------+\n",
            "only showing top 5 rows\n",
            "\n"
          ]
        }
      ]
    },
    {
      "cell_type": "code",
      "metadata": {
        "id": "YhxQXrZ7dvIh",
        "colab": {
          "base_uri": "https://localhost:8080/"
        },
        "outputId": "eebd340e-68f9-4b19-d772-01dbbfda5c54"
      },
      "source": [
        "train_dataset.groupBy(\"label\").count().orderBy(col(\"count\").desc()).show() "
      ],
      "execution_count": 8,
      "outputs": [
        {
          "output_type": "stream",
          "name": "stdout",
          "text": [
            "+--------+-----+\n",
            "|   label|count|\n",
            "+--------+-----+\n",
            "|positive|12500|\n",
            "|negative|12500|\n",
            "+--------+-----+\n",
            "\n"
          ]
        }
      ]
    },
    {
      "cell_type": "code",
      "metadata": {
        "colab": {
          "base_uri": "https://localhost:8080/"
        },
        "id": "PZEpqQTrhWiC",
        "outputId": "51d1ec05-e965-451a-8bda-7e2f03ff1b62"
      },
      "source": [
        "test_dataset = spark.read.option('header', True).csv(\"/content/drive/MyDrive/AAA/sentiment_dataset/aclimdb_test.csv\")\n",
        "test_dataset.show(5) "
      ],
      "execution_count": 5,
      "outputs": [
        {
          "output_type": "stream",
          "name": "stdout",
          "text": [
            "+--------------------+--------+\n",
            "|                text|   label|\n",
            "+--------------------+--------+\n",
            "|The Second Woman ...|negative|\n",
            "|In my opinion the...|positive|\n",
            "|I am listening to...|positive|\n",
            "|Before I speak my...|negative|\n",
            "|ManBearPig is a p...|positive|\n",
            "+--------------------+--------+\n",
            "only showing top 5 rows\n",
            "\n"
          ]
        }
      ]
    },
    {
      "cell_type": "code",
      "metadata": {
        "colab": {
          "base_uri": "https://localhost:8080/"
        },
        "id": "9C2oHyrxjXXi",
        "outputId": "8dad5633-b0e8-48e7-d9b1-4a92d5dc4d47"
      },
      "source": [
        "test_dataset.groupBy(\"label\").count().orderBy(col(\"count\").desc()).show() "
      ],
      "execution_count": 9,
      "outputs": [
        {
          "output_type": "stream",
          "name": "stdout",
          "text": [
            "+--------+-----+\n",
            "|   label|count|\n",
            "+--------+-----+\n",
            "|positive|12500|\n",
            "|negative|12500|\n",
            "+--------+-----+\n",
            "\n"
          ]
        }
      ]
    },
    {
      "cell_type": "code",
      "metadata": {
        "id": "KQukOpY2dvLB"
      },
      "source": [
        "# Dropping null value \n",
        "train_dataset = train_dataset.na.drop() \n",
        "test_dataset = test_dataset.na.drop() "
      ],
      "execution_count": 10,
      "outputs": []
    },
    {
      "cell_type": "code",
      "metadata": {
        "id": "nqUPo5lpv0FQ"
      },
      "source": [
        "# Dropping duplicate value of train_dataset \n",
        "train_dataset = train_dataset.dropDuplicates() "
      ],
      "execution_count": 11,
      "outputs": []
    },
    {
      "cell_type": "code",
      "metadata": {
        "id": "XROKxoRRv0IO",
        "colab": {
          "base_uri": "https://localhost:8080/"
        },
        "outputId": "e76158f9-6761-4d82-e1e0-fb429510a084"
      },
      "source": [
        "# Shape of train and test dataset \n",
        "print(\"shape of train_dataset is :{} {}\".format(train_dataset.count(), len(train_dataset.columns)))\n",
        "print(\"Shape of test_dataset is :{} {}\".format(test_dataset.count(), len(test_dataset.columns))) "
      ],
      "execution_count": 12,
      "outputs": [
        {
          "output_type": "stream",
          "name": "stdout",
          "text": [
            "shape of train_dataset is :24904 2\n",
            "Shape of test_dataset is :25000 2\n"
          ]
        }
      ]
    },
    {
      "cell_type": "code",
      "metadata": {
        "id": "yIY2luImv5CC",
        "colab": {
          "base_uri": "https://localhost:8080/"
        },
        "outputId": "bbde2b65-8305-45bf-9d8d-83f9633d4b10"
      },
      "source": [
        "# Dividing dataset \n",
        "train, valid = train_dataset.randomSplit([.9, .1], seed=42) \n",
        "print(\"Shape of train is :{} {}\".format(train.count(), len(train.columns)))\n",
        "print(\"Shape of valid is :{} {}\".format(valid.count(), len(valid.columns))) "
      ],
      "execution_count": 13,
      "outputs": [
        {
          "output_type": "stream",
          "name": "stdout",
          "text": [
            "Shape of train is :22369 2\n",
            "Shape of valid is :2535 2\n"
          ]
        }
      ]
    },
    {
      "cell_type": "code",
      "metadata": {
        "id": "paBgSiWmwGcc"
      },
      "source": [
        ""
      ],
      "execution_count": null,
      "outputs": []
    },
    {
      "cell_type": "markdown",
      "metadata": {
        "id": "RKozOUGwsnoN"
      },
      "source": [
        "### Define Pipeline"
      ]
    },
    {
      "cell_type": "code",
      "metadata": {
        "id": "zkIUGDwkcnu0"
      },
      "source": [
        "# define document \n",
        "document = DocumentAssembler().setInputCol('text').setOutputCol('document').setCleanupMode('shrink')\n",
        "\n",
        "# define sentence detector \n",
        "sentence_detector = SentenceDetector().setInputCols([\"document\"]).setOutputCol(\"sentence\")\n",
        "\n",
        "# define tokenizer \n",
        "tokenizer = Tokenizer().setInputCols([\"sentence\"]).setOutputCol(\"token\")\n",
        "\n",
        "# define lemmatizer \n",
        "lemmatizer = Lemmatizer().setInputCols([\"token\"]).setOutputCol(\"lemma\").setDictionary(\"/content/drive/MyDrive/AAA/sentiment_dataset/lemmas_small.txt\", key_delimiter=\"->\", value_delimiter=\"\\t\")\n",
        "\n",
        "# define sentence detector \n",
        "sentiment_detector = SentimentDetector().setInputCols([\"lemma\", \"sentence\"]).setOutputCol(\"sentiment_score\").setDictionary(\"/content/drive/MyDrive/AAA/sentiment_dataset/default-sentiment-dict.txt\", \",\")\n",
        "\n",
        "# define finisher \n",
        "finisher = Finisher().setInputCols([\"sentiment_score\"]).setOutputCols([\"sentiment\"])\n",
        "\n",
        "# define pipeline \n",
        "pipeline = Pipeline(\n",
        "    stages = [\n",
        "              document, \n",
        "              sentence_detector,\n",
        "              tokenizer,\n",
        "              lemmatizer,\n",
        "              sentiment_detector,\n",
        "              finisher\n",
        "    ])"
      ],
      "execution_count": 18,
      "outputs": []
    },
    {
      "cell_type": "code",
      "metadata": {
        "id": "F6wzpV5AcnzU"
      },
      "source": [
        "model = pipeline.fit(train)"
      ],
      "execution_count": 19,
      "outputs": []
    },
    {
      "cell_type": "code",
      "metadata": {
        "id": "Hic1Io29cn3d",
        "colab": {
          "base_uri": "https://localhost:8080/"
        },
        "outputId": "fb28702e-d76f-42af-a783-0e2ea3f8da5b"
      },
      "source": [
        "# Analyzing pipeline transformation outcome \n",
        "pred_valid = model.transform(valid)\n",
        "pred_valid.show() "
      ],
      "execution_count": 24,
      "outputs": [
        {
          "output_type": "stream",
          "name": "stdout",
          "text": [
            "+--------------------+--------+----------+\n",
            "|                text|   label| sentiment|\n",
            "+--------------------+--------+----------+\n",
            "|After Racism, Rur...|positive|[positive]|\n",
            "|Ah, Lucio Fulci, ...|negative|[positive]|\n",
            "|I waited until th...|positive|[positive]|\n",
            "|In War, Inc we fi...|positive|[positive]|\n",
            "|The message of a ...|positive|[positive]|\n",
            "|Two days after se...|negative|[negative]|\n",
            "|xica da Silva is ...|positive|[positive]|\n",
            "|All you really ne...|negative|[positive]|\n",
            "|Bill Paxton, of A...|positive|[positive]|\n",
            "|I went to see it ...|positive|[positive]|\n",
            "|I wish I could sa...|negative|[positive]|\n",
            "|I've read all the...|negative|[positive]|\n",
            "|If you are the so...|negative|[negative]|\n",
            "|Movie: There are ...|negative|[positive]|\n",
            "|The only possible...|negative|[positive]|\n",
            "|This early B entr...|negative|[positive]|\n",
            "|Well, basically, ...|negative|[negative]|\n",
            "|Clair Denis again...|positive|[positive]|\n",
            "|Cliff Robertson a...|negative|[positive]|\n",
            "|Daniel Day Lewis ...|positive|[positive]|\n",
            "+--------------------+--------+----------+\n",
            "only showing top 20 rows\n",
            "\n"
          ]
        }
      ]
    },
    {
      "cell_type": "code",
      "metadata": {
        "id": "Z5Y5EsxRcn6z",
        "colab": {
          "base_uri": "https://localhost:8080/"
        },
        "outputId": "a7ee0244-6076-4f52-f5a1-da3c294a06b3"
      },
      "source": [
        "pred_valid.select('label', 'text', 'sentiment').show() "
      ],
      "execution_count": 32,
      "outputs": [
        {
          "output_type": "stream",
          "name": "stdout",
          "text": [
            "+--------+--------------------+----------+\n",
            "|   label|                text| sentiment|\n",
            "+--------+--------------------+----------+\n",
            "|positive|After Racism, Rur...|[positive]|\n",
            "|negative|Ah, Lucio Fulci, ...|[positive]|\n",
            "|positive|I waited until th...|[positive]|\n",
            "|positive|In War, Inc we fi...|[positive]|\n",
            "|positive|The message of a ...|[positive]|\n",
            "|negative|Two days after se...|[negative]|\n",
            "|positive|xica da Silva is ...|[positive]|\n",
            "|negative|All you really ne...|[positive]|\n",
            "|positive|Bill Paxton, of A...|[positive]|\n",
            "|positive|I went to see it ...|[positive]|\n",
            "|negative|I wish I could sa...|[positive]|\n",
            "|negative|I've read all the...|[positive]|\n",
            "|negative|If you are the so...|[negative]|\n",
            "|negative|Movie: There are ...|[positive]|\n",
            "|negative|The only possible...|[positive]|\n",
            "|negative|This early B entr...|[positive]|\n",
            "|negative|Well, basically, ...|[negative]|\n",
            "|positive|Clair Denis again...|[positive]|\n",
            "|negative|Cliff Robertson a...|[positive]|\n",
            "|positive|Daniel Day Lewis ...|[positive]|\n",
            "+--------+--------------------+----------+\n",
            "only showing top 20 rows\n",
            "\n"
          ]
        }
      ]
    },
    {
      "cell_type": "code",
      "metadata": {
        "id": "35FWvsJn6Wod"
      },
      "source": [
        "pred_valid_df = pred_valid.select('label', 'text', 'sentiment').toPandas()"
      ],
      "execution_count": 33,
      "outputs": []
    },
    {
      "cell_type": "code",
      "metadata": {
        "colab": {
          "base_uri": "https://localhost:8080/",
          "height": 424
        },
        "id": "lV8_zI5EwWgu",
        "outputId": "3e50280f-4bd4-4f37-c1be-693ad6702e08"
      },
      "source": [
        "pred_valid_df "
      ],
      "execution_count": 35,
      "outputs": [
        {
          "output_type": "execute_result",
          "data": {
            "text/html": [
              "<div>\n",
              "<style scoped>\n",
              "    .dataframe tbody tr th:only-of-type {\n",
              "        vertical-align: middle;\n",
              "    }\n",
              "\n",
              "    .dataframe tbody tr th {\n",
              "        vertical-align: top;\n",
              "    }\n",
              "\n",
              "    .dataframe thead th {\n",
              "        text-align: right;\n",
              "    }\n",
              "</style>\n",
              "<table border=\"1\" class=\"dataframe\">\n",
              "  <thead>\n",
              "    <tr style=\"text-align: right;\">\n",
              "      <th></th>\n",
              "      <th>label</th>\n",
              "      <th>text</th>\n",
              "      <th>sentiment</th>\n",
              "    </tr>\n",
              "  </thead>\n",
              "  <tbody>\n",
              "    <tr>\n",
              "      <th>0</th>\n",
              "      <td>positive</td>\n",
              "      <td>After Racism, Rural exodus -also known as migr...</td>\n",
              "      <td>[positive]</td>\n",
              "    </tr>\n",
              "    <tr>\n",
              "      <th>1</th>\n",
              "      <td>negative</td>\n",
              "      <td>Ah, Lucio Fulci, rest in peace. This infamous ...</td>\n",
              "      <td>[positive]</td>\n",
              "    </tr>\n",
              "    <tr>\n",
              "      <th>2</th>\n",
              "      <td>positive</td>\n",
              "      <td>I waited until the 4th of July to write this b...</td>\n",
              "      <td>[positive]</td>\n",
              "    </tr>\n",
              "    <tr>\n",
              "      <th>3</th>\n",
              "      <td>positive</td>\n",
              "      <td>In War, Inc we find the logical extension of t...</td>\n",
              "      <td>[positive]</td>\n",
              "    </tr>\n",
              "    <tr>\n",
              "      <th>4</th>\n",
              "      <td>positive</td>\n",
              "      <td>The message of a world on the brink of war is ...</td>\n",
              "      <td>[positive]</td>\n",
              "    </tr>\n",
              "    <tr>\n",
              "      <th>...</th>\n",
              "      <td>...</td>\n",
              "      <td>...</td>\n",
              "      <td>...</td>\n",
              "    </tr>\n",
              "    <tr>\n",
              "      <th>2530</th>\n",
              "      <td>positive</td>\n",
              "      <td>One of the great things about many of the supe...</td>\n",
              "      <td>[positive]</td>\n",
              "    </tr>\n",
              "    <tr>\n",
              "      <th>2531</th>\n",
              "      <td>positive</td>\n",
              "      <td>Overall, I thought it a very nice movie - I ha...</td>\n",
              "      <td>[positive]</td>\n",
              "    </tr>\n",
              "    <tr>\n",
              "      <th>2532</th>\n",
              "      <td>negative</td>\n",
              "      <td>This 2003 made for TV movie was shown on a wom...</td>\n",
              "      <td>[negative]</td>\n",
              "    </tr>\n",
              "    <tr>\n",
              "      <th>2533</th>\n",
              "      <td>positive</td>\n",
              "      <td>Very nicely done movie. It does stay in your m...</td>\n",
              "      <td>[positive]</td>\n",
              "    </tr>\n",
              "    <tr>\n",
              "      <th>2534</th>\n",
              "      <td>positive</td>\n",
              "      <td>With all of the violence on TV and in the loca...</td>\n",
              "      <td>[positive]</td>\n",
              "    </tr>\n",
              "  </tbody>\n",
              "</table>\n",
              "<p>2535 rows × 3 columns</p>\n",
              "</div>"
            ],
            "text/plain": [
              "         label                                               text   sentiment\n",
              "0     positive  After Racism, Rural exodus -also known as migr...  [positive]\n",
              "1     negative  Ah, Lucio Fulci, rest in peace. This infamous ...  [positive]\n",
              "2     positive  I waited until the 4th of July to write this b...  [positive]\n",
              "3     positive  In War, Inc we find the logical extension of t...  [positive]\n",
              "4     positive  The message of a world on the brink of war is ...  [positive]\n",
              "...        ...                                                ...         ...\n",
              "2530  positive  One of the great things about many of the supe...  [positive]\n",
              "2531  positive  Overall, I thought it a very nice movie - I ha...  [positive]\n",
              "2532  negative  This 2003 made for TV movie was shown on a wom...  [negative]\n",
              "2533  positive  Very nicely done movie. It does stay in your m...  [positive]\n",
              "2534  positive  With all of the violence on TV and in the loca...  [positive]\n",
              "\n",
              "[2535 rows x 3 columns]"
            ]
          },
          "metadata": {},
          "execution_count": 35
        }
      ]
    },
    {
      "cell_type": "code",
      "metadata": {
        "id": "5449gaGu6WrX"
      },
      "source": [
        "pred_valid_df['sentiment'] = pred_valid_df['sentiment'].apply(lambda x: x[0]) "
      ],
      "execution_count": 40,
      "outputs": []
    },
    {
      "cell_type": "code",
      "metadata": {
        "id": "8At3MqXQ6WuK",
        "colab": {
          "base_uri": "https://localhost:8080/"
        },
        "outputId": "e9964eea-6f0c-4b31-8cf6-abe202dbd8b0"
      },
      "source": [
        "print(\"Accuracy score is :{}\".format(accuracy_score(pred_valid_df['sentiment'], pred_valid_df['label']))) "
      ],
      "execution_count": 41,
      "outputs": [
        {
          "output_type": "stream",
          "name": "stdout",
          "text": [
            "Accuracy score is :0.5857988165680473\n"
          ]
        }
      ]
    },
    {
      "cell_type": "code",
      "metadata": {
        "id": "yYUwEDjD6Ww7",
        "colab": {
          "base_uri": "https://localhost:8080/"
        },
        "outputId": "ca972f56-20f2-4627-c63d-0f9a1e6088af"
      },
      "source": [
        "# classification report \n",
        "print(classification_report(pred_valid_df['sentiment'], pred_valid_df['label'])) "
      ],
      "execution_count": 42,
      "outputs": [
        {
          "output_type": "stream",
          "name": "stdout",
          "text": [
            "              precision    recall  f1-score   support\n",
            "\n",
            "    negative       0.26      0.74      0.38       435\n",
            "    positive       0.91      0.55      0.69      2100\n",
            "\n",
            "    accuracy                           0.59      2535\n",
            "   macro avg       0.58      0.65      0.53      2535\n",
            "weighted avg       0.80      0.59      0.64      2535\n",
            "\n"
          ]
        }
      ]
    },
    {
      "cell_type": "code",
      "metadata": {
        "id": "4GfS3dW26iYI",
        "colab": {
          "base_uri": "https://localhost:8080/",
          "height": 592
        },
        "outputId": "ad0cdd74-390c-4746-dc54-c6ab077fcea1"
      },
      "source": [
        "# Confusion Matrix \n",
        "plt.figure(figsize=(15, 10))\n",
        "sns.heatmap(confusion_matrix(pred_valid_df['sentiment'], pred_valid_df['label']), annot=True)\n",
        "plt.show() "
      ],
      "execution_count": 43,
      "outputs": [
        {
          "output_type": "display_data",
          "data": {
            "image/png": "[encoded data removed]",
            "text/plain": [
              "<Figure size 1080x720 with 2 Axes>"
            ]
          },
          "metadata": {
            "needs_background": "light"
          }
        }
      ]
    },
    {
      "cell_type": "code",
      "metadata": {
        "id": "puSnLHYPS1uS"
      },
      "source": [
        ""
      ],
      "execution_count": null,
      "outputs": []
    },
    {
      "cell_type": "code",
      "metadata": {
        "id": "XWzNlcyI6ibE"
      },
      "source": [
        "# pred_valid.where(array_contains(pred_valid.sentiment, \"positive\")).show(10,False) "
      ],
      "execution_count": 76,
      "outputs": []
    },
    {
      "cell_type": "code",
      "metadata": {
        "id": "3zScrCZbT2XW"
      },
      "source": [
        "pred_test = model.transform(test_dataset) "
      ],
      "execution_count": 46,
      "outputs": []
    },
    {
      "cell_type": "code",
      "metadata": {
        "colab": {
          "base_uri": "https://localhost:8080/"
        },
        "id": "fe-pR8aGzRnc",
        "outputId": "feb6a134-6520-456b-ddfa-285cbfe60263"
      },
      "source": [
        "pred_test.select('text', 'label', 'sentiment').show() "
      ],
      "execution_count": 47,
      "outputs": [
        {
          "output_type": "stream",
          "name": "stdout",
          "text": [
            "+--------------------+--------+----------+\n",
            "|                text|   label| sentiment|\n",
            "+--------------------+--------+----------+\n",
            "|The Second Woman ...|negative|[positive]|\n",
            "|In my opinion the...|positive|[positive]|\n",
            "|I am listening to...|positive|[positive]|\n",
            "|Before I speak my...|negative|[positive]|\n",
            "|ManBearPig is a p...|positive|[positive]|\n",
            "|A buddy and I wen...|negative|[negative]|\n",
            "|It is incredible ...|negative|[positive]|\n",
            "|Dire! Dismal! Awf...|negative|[positive]|\n",
            "|HLOTS was an outs...|positive|[positive]|\n",
            "|This is just one ...|negative|[positive]|\n",
            "|This movie had th...|negative|[positive]|\n",
            "|The 80s were over...|positive|[positive]|\n",
            "|The tunes are the...|positive|[positive]|\n",
            "|Having recently s...|positive|[positive]|\n",
            "|My favorite film ...|positive|[positive]|\n",
            "|This movie just m...|positive|[positive]|\n",
            "|This is the worst...|negative|[positive]|\n",
            "|This was a nice f...|positive|[positive]|\n",
            "|I don't know, may...|negative|[positive]|\n",
            "|After wasting 2 h...|negative|[positive]|\n",
            "+--------------------+--------+----------+\n",
            "only showing top 20 rows\n",
            "\n"
          ]
        }
      ]
    },
    {
      "cell_type": "code",
      "metadata": {
        "id": "FQjUxntRzRqd"
      },
      "source": [
        "pred_test_df = pred_test.select('text', 'label', 'sentiment').toPandas() "
      ],
      "execution_count": 48,
      "outputs": []
    },
    {
      "cell_type": "code",
      "metadata": {
        "colab": {
          "base_uri": "https://localhost:8080/",
          "height": 424
        },
        "id": "wi0zLapJzRtd",
        "outputId": "5e9674c6-7fca-49af-956a-33a7f0528153"
      },
      "source": [
        "pred_test_df['sentiment'] = pred_test_df['sentiment'].apply(lambda x: x[0]) \n",
        "pred_test_df "
      ],
      "execution_count": 50,
      "outputs": [
        {
          "output_type": "execute_result",
          "data": {
            "text/html": [
              "<div>\n",
              "<style scoped>\n",
              "    .dataframe tbody tr th:only-of-type {\n",
              "        vertical-align: middle;\n",
              "    }\n",
              "\n",
              "    .dataframe tbody tr th {\n",
              "        vertical-align: top;\n",
              "    }\n",
              "\n",
              "    .dataframe thead th {\n",
              "        text-align: right;\n",
              "    }\n",
              "</style>\n",
              "<table border=\"1\" class=\"dataframe\">\n",
              "  <thead>\n",
              "    <tr style=\"text-align: right;\">\n",
              "      <th></th>\n",
              "      <th>text</th>\n",
              "      <th>label</th>\n",
              "      <th>sentiment</th>\n",
              "    </tr>\n",
              "  </thead>\n",
              "  <tbody>\n",
              "    <tr>\n",
              "      <th>0</th>\n",
              "      <td>The Second Woman is about the story of a myste...</td>\n",
              "      <td>negative</td>\n",
              "      <td>positive</td>\n",
              "    </tr>\n",
              "    <tr>\n",
              "      <th>1</th>\n",
              "      <td>In my opinion the directing, editing, lighting...</td>\n",
              "      <td>positive</td>\n",
              "      <td>positive</td>\n",
              "    </tr>\n",
              "    <tr>\n",
              "      <th>2</th>\n",
              "      <td>I am listening to Istanbul, intent, my eyes cl...</td>\n",
              "      <td>positive</td>\n",
              "      <td>positive</td>\n",
              "    </tr>\n",
              "    <tr>\n",
              "      <th>3</th>\n",
              "      <td>Before I speak my piece, I would like to make ...</td>\n",
              "      <td>negative</td>\n",
              "      <td>positive</td>\n",
              "    </tr>\n",
              "    <tr>\n",
              "      <th>4</th>\n",
              "      <td>ManBearPig is a pretty funny episode of South ...</td>\n",
              "      <td>positive</td>\n",
              "      <td>positive</td>\n",
              "    </tr>\n",
              "    <tr>\n",
              "      <th>...</th>\n",
              "      <td>...</td>\n",
              "      <td>...</td>\n",
              "      <td>...</td>\n",
              "    </tr>\n",
              "    <tr>\n",
              "      <th>24995</th>\n",
              "      <td>This show has an amazing plot with good and re...</td>\n",
              "      <td>positive</td>\n",
              "      <td>positive</td>\n",
              "    </tr>\n",
              "    <tr>\n",
              "      <th>24996</th>\n",
              "      <td>I don't know what Dick steel was talking about...</td>\n",
              "      <td>positive</td>\n",
              "      <td>positive</td>\n",
              "    </tr>\n",
              "    <tr>\n",
              "      <th>24997</th>\n",
              "      <td>Aaliyah blows all the female cast members out ...</td>\n",
              "      <td>positive</td>\n",
              "      <td>positive</td>\n",
              "    </tr>\n",
              "    <tr>\n",
              "      <th>24998</th>\n",
              "      <td>the movie is complete disaster. i don't know w...</td>\n",
              "      <td>negative</td>\n",
              "      <td>positive</td>\n",
              "    </tr>\n",
              "    <tr>\n",
              "      <th>24999</th>\n",
              "      <td>First, I am a big fan of Alien and Alien II - ...</td>\n",
              "      <td>negative</td>\n",
              "      <td>positive</td>\n",
              "    </tr>\n",
              "  </tbody>\n",
              "</table>\n",
              "<p>25000 rows × 3 columns</p>\n",
              "</div>"
            ],
            "text/plain": [
              "                                                    text     label sentiment\n",
              "0      The Second Woman is about the story of a myste...  negative  positive\n",
              "1      In my opinion the directing, editing, lighting...  positive  positive\n",
              "2      I am listening to Istanbul, intent, my eyes cl...  positive  positive\n",
              "3      Before I speak my piece, I would like to make ...  negative  positive\n",
              "4      ManBearPig is a pretty funny episode of South ...  positive  positive\n",
              "...                                                  ...       ...       ...\n",
              "24995  This show has an amazing plot with good and re...  positive  positive\n",
              "24996  I don't know what Dick steel was talking about...  positive  positive\n",
              "24997  Aaliyah blows all the female cast members out ...  positive  positive\n",
              "24998  the movie is complete disaster. i don't know w...  negative  positive\n",
              "24999  First, I am a big fan of Alien and Alien II - ...  negative  positive\n",
              "\n",
              "[25000 rows x 3 columns]"
            ]
          },
          "metadata": {},
          "execution_count": 50
        }
      ]
    },
    {
      "cell_type": "code",
      "metadata": {
        "id": "FsG_DrmbzRwR"
      },
      "source": [
        ""
      ],
      "execution_count": null,
      "outputs": []
    },
    {
      "cell_type": "code",
      "metadata": {
        "id": "cTbE8Ri-0me5"
      },
      "source": [
        ""
      ],
      "execution_count": null,
      "outputs": []
    },
    {
      "cell_type": "markdown",
      "metadata": {
        "id": "HZT3Xk2A0vNb"
      },
      "source": [
        "### Using Another Pipeline "
      ]
    },
    {
      "cell_type": "code",
      "metadata": {
        "colab": {
          "base_uri": "https://localhost:8080/"
        },
        "id": "a3uskc580miL",
        "outputId": "95158ca6-ab9a-4762-b53b-dd2c4a8d70af"
      },
      "source": [
        "# actual content is inside description column\n",
        "document = DocumentAssembler()\\\n",
        "    .setInputCol(\"text\")\\\n",
        "    .setOutputCol(\"document\")\n",
        "\n",
        "use = UniversalSentenceEncoder.pretrained() \\\n",
        " .setInputCols([\"document\"])\\\n",
        " .setOutputCol(\"sentence_embeddings\")\n",
        "\n",
        "# the classes/labels/categories are in category column\n",
        "sentimentdl = SentimentDLApproach()\\\n",
        "  .setInputCols([\"sentence_embeddings\"])\\\n",
        "  .setOutputCol(\"class\")\\\n",
        "  .setLabelColumn(\"label\")\\\n",
        "  .setMaxEpochs(5)\\\n",
        "  .setEnableOutputLogs(True)\n",
        "\n",
        "pipeline = Pipeline(\n",
        "    stages = [\n",
        "        document,\n",
        "        use,\n",
        "        sentimentdl\n",
        "    ])"
      ],
      "execution_count": 51,
      "outputs": [
        {
          "output_type": "stream",
          "name": "stdout",
          "text": [
            "tfhub_use download started this may take some time.\n",
            "Approximate size to download 923.7 MB\n",
            "[OK!]\n"
          ]
        }
      ]
    },
    {
      "cell_type": "code",
      "metadata": {
        "id": "SE53YB1t0mly"
      },
      "source": [
        "model = pipeline.fit(train)"
      ],
      "execution_count": 52,
      "outputs": []
    },
    {
      "cell_type": "code",
      "metadata": {
        "colab": {
          "base_uri": "https://localhost:8080/"
        },
        "id": "GPzwcuMG0mqG",
        "outputId": "6899b390-c79e-44d1-dced-8f5e4a42f204"
      },
      "source": [
        "# Analyzing pipeline transformation outcome \n",
        "pred_valid = model.transform(valid)\n",
        "pred_valid.show() "
      ],
      "execution_count": 53,
      "outputs": [
        {
          "output_type": "stream",
          "name": "stdout",
          "text": [
            "+--------------------+--------+--------------------+--------------------+--------------------+\n",
            "|                text|   label|            document| sentence_embeddings|               class|\n",
            "+--------------------+--------+--------------------+--------------------+--------------------+\n",
            "|After Racism, Rur...|positive|[[document, 0, 18...|[[sentence_embedd...|[[category, 0, 18...|\n",
            "|Ah, Lucio Fulci, ...|negative|[[document, 0, 21...|[[sentence_embedd...|[[category, 0, 21...|\n",
            "|I waited until th...|positive|[[document, 0, 43...|[[sentence_embedd...|[[category, 0, 43...|\n",
            "|In War, Inc we fi...|positive|[[document, 0, 18...|[[sentence_embedd...|[[category, 0, 18...|\n",
            "|The message of a ...|positive|[[document, 0, 19...|[[sentence_embedd...|[[category, 0, 19...|\n",
            "|Two days after se...|negative|[[document, 0, 51...|[[sentence_embedd...|[[category, 0, 51...|\n",
            "|xica da Silva is ...|positive|[[document, 0, 91...|[[sentence_embedd...|[[category, 0, 91...|\n",
            "|All you really ne...|negative|[[document, 0, 10...|[[sentence_embedd...|[[category, 0, 10...|\n",
            "|Bill Paxton, of A...|positive|[[document, 0, 17...|[[sentence_embedd...|[[category, 0, 17...|\n",
            "|I went to see it ...|positive|[[document, 0, 75...|[[sentence_embedd...|[[category, 0, 75...|\n",
            "|I wish I could sa...|negative|[[document, 0, 84...|[[sentence_embedd...|[[category, 0, 84...|\n",
            "|I've read all the...|negative|[[document, 0, 10...|[[sentence_embedd...|[[category, 0, 10...|\n",
            "|If you are the so...|negative|[[document, 0, 85...|[[sentence_embedd...|[[category, 0, 85...|\n",
            "|Movie: There are ...|negative|[[document, 0, 21...|[[sentence_embedd...|[[category, 0, 21...|\n",
            "|The only possible...|negative|[[document, 0, 12...|[[sentence_embedd...|[[category, 0, 12...|\n",
            "|This early B entr...|negative|[[document, 0, 13...|[[sentence_embedd...|[[category, 0, 13...|\n",
            "|Well, basically, ...|negative|[[document, 0, 76...|[[sentence_embedd...|[[category, 0, 76...|\n",
            "|Clair Denis again...|positive|[[document, 0, 19...|[[sentence_embedd...|[[category, 0, 19...|\n",
            "|Cliff Robertson a...|negative|[[document, 0, 92...|[[sentence_embedd...|[[category, 0, 92...|\n",
            "|Daniel Day Lewis ...|positive|[[document, 0, 43...|[[sentence_embedd...|[[category, 0, 43...|\n",
            "+--------------------+--------+--------------------+--------------------+--------------------+\n",
            "only showing top 20 rows\n",
            "\n"
          ]
        }
      ]
    },
    {
      "cell_type": "code",
      "metadata": {
        "colab": {
          "base_uri": "https://localhost:8080/"
        },
        "id": "-FnKTcCV0ms6",
        "outputId": "c3502fcb-56f2-4235-a1a3-0ac237ab07a7"
      },
      "source": [
        "pred_valid.select('label', 'text', 'class.result').show() "
      ],
      "execution_count": 54,
      "outputs": [
        {
          "output_type": "stream",
          "name": "stdout",
          "text": [
            "+--------+--------------------+----------+\n",
            "|   label|                text|    result|\n",
            "+--------+--------------------+----------+\n",
            "|positive|After Racism, Rur...|[positive]|\n",
            "|negative|Ah, Lucio Fulci, ...|[negative]|\n",
            "|positive|I waited until th...|[positive]|\n",
            "|positive|In War, Inc we fi...|[positive]|\n",
            "|positive|The message of a ...|[positive]|\n",
            "|negative|Two days after se...|[negative]|\n",
            "|positive|xica da Silva is ...|[positive]|\n",
            "|negative|All you really ne...|[negative]|\n",
            "|positive|Bill Paxton, of A...|[positive]|\n",
            "|positive|I went to see it ...|[positive]|\n",
            "|negative|I wish I could sa...|[negative]|\n",
            "|negative|I've read all the...|[positive]|\n",
            "|negative|If you are the so...|[positive]|\n",
            "|negative|Movie: There are ...|[negative]|\n",
            "|negative|The only possible...|[negative]|\n",
            "|negative|This early B entr...|[positive]|\n",
            "|negative|Well, basically, ...|[negative]|\n",
            "|positive|Clair Denis again...|[positive]|\n",
            "|negative|Cliff Robertson a...|[negative]|\n",
            "|positive|Daniel Day Lewis ...|[positive]|\n",
            "+--------+--------------------+----------+\n",
            "only showing top 20 rows\n",
            "\n"
          ]
        }
      ]
    },
    {
      "cell_type": "code",
      "metadata": {
        "id": "l_B59JsV0mvo"
      },
      "source": [
        "pred_valid_df = pred_valid.select('text', 'label', 'class.result').toPandas() "
      ],
      "execution_count": 56,
      "outputs": []
    },
    {
      "cell_type": "code",
      "metadata": {
        "id": "Rtwe6KYT2VcD"
      },
      "source": [
        "pred_valid_df['result'] = pred_valid_df['result'].apply(lambda x: x[0]) "
      ],
      "execution_count": 57,
      "outputs": []
    },
    {
      "cell_type": "code",
      "metadata": {
        "colab": {
          "base_uri": "https://localhost:8080/"
        },
        "id": "WYgoogAz2Vew",
        "outputId": "dc5a41d6-2048-4363-ca30-073eca3b714d"
      },
      "source": [
        "print(\"Accuracy score is :{}\".format(accuracy_score(pred_valid_df['result'], pred_valid_df['label']))) "
      ],
      "execution_count": 58,
      "outputs": [
        {
          "output_type": "stream",
          "name": "stdout",
          "text": [
            "Accuracy score is :0.8382642998027613\n"
          ]
        }
      ]
    },
    {
      "cell_type": "code",
      "metadata": {
        "colab": {
          "base_uri": "https://localhost:8080/"
        },
        "id": "oJDnHYkQ3Sa2",
        "outputId": "b1c3742b-6a04-41a5-9b4c-fbb97b77659b"
      },
      "source": [
        "# classification report \n",
        "print(classification_report(pred_valid_df['result'], pred_valid_df['label'])) "
      ],
      "execution_count": 59,
      "outputs": [
        {
          "output_type": "stream",
          "name": "stdout",
          "text": [
            "              precision    recall  f1-score   support\n",
            "\n",
            "    negative       0.80      0.88      0.84      1144\n",
            "     neutral       0.00      0.00      0.00        54\n",
            "    positive       0.88      0.83      0.85      1337\n",
            "\n",
            "    accuracy                           0.84      2535\n",
            "   macro avg       0.56      0.57      0.56      2535\n",
            "weighted avg       0.82      0.84      0.83      2535\n",
            "\n"
          ]
        },
        {
          "output_type": "stream",
          "name": "stderr",
          "text": [
            "/usr/local/lib/python3.7/dist-packages/sklearn/metrics/_classification.py:1272: UndefinedMetricWarning: Precision and F-score are ill-defined and being set to 0.0 in labels with no predicted samples. Use `zero_division` parameter to control this behavior.\n",
            "  _warn_prf(average, modifier, msg_start, len(result))\n"
          ]
        }
      ]
    },
    {
      "cell_type": "code",
      "metadata": {
        "colab": {
          "base_uri": "https://localhost:8080/",
          "height": 592
        },
        "id": "c7mbtp4A3Sd0",
        "outputId": "dd9a656d-553a-4343-a144-09143ab1c208"
      },
      "source": [
        "# Confusion Matrix \n",
        "plt.figure(figsize=(15, 10))\n",
        "sns.heatmap(confusion_matrix(pred_valid_df['result'], pred_valid_df['label']), annot=True)\n",
        "plt.show() "
      ],
      "execution_count": 60,
      "outputs": [
        {
          "output_type": "display_data",
          "data": {
            "image/png": "[encoded data removed]",
            "text/plain": [
              "<Figure size 1080x720 with 2 Axes>"
            ]
          },
          "metadata": {
            "needs_background": "light"
          }
        }
      ]
    },
    {
      "cell_type": "code",
      "metadata": {
        "id": "NME69sCp3dK2"
      },
      "source": [
        ""
      ],
      "execution_count": null,
      "outputs": []
    },
    {
      "cell_type": "code",
      "metadata": {
        "id": "I2jvLrhe615M"
      },
      "source": [
        ""
      ],
      "execution_count": null,
      "outputs": []
    },
    {
      "cell_type": "markdown",
      "metadata": {
        "id": "X3rcF4Lc68Oh"
      },
      "source": [
        "### Using Another Pipeline "
      ]
    },
    {
      "cell_type": "code",
      "metadata": {
        "colab": {
          "base_uri": "https://localhost:8080/"
        },
        "id": "uwSAyr3-618Z",
        "outputId": "0e32903d-1caa-4392-f020-764bc2d283f1"
      },
      "source": [
        "# actual content is inside Text column \n",
        "document = DocumentAssembler().setInputCol(\"text\").setOutputCol('document')\n",
        "\n",
        "# downloading pretrained embeddings \n",
        "use = UniversalSentenceEncoder.pretrained().setInputCols([\"document\"]).setOutputCol(\"sentence_embeddings\") \n",
        "\n",
        "# classifier \n",
        "classifierdl = ClassifierDLApproach().setInputCols(['sentence_embeddings']).setOutputCol('class').setLabelColumn(\"label\").setMaxEpochs(5).setEnableOutputLogs(True) \n",
        "\n",
        "# pipeline \n",
        "pipeline = Pipeline(\n",
        "    stages = [\n",
        "              document, \n",
        "              use, \n",
        "              classifierdl\n",
        "    ])"
      ],
      "execution_count": 63,
      "outputs": [
        {
          "output_type": "stream",
          "name": "stdout",
          "text": [
            "tfhub_use download started this may take some time.\n",
            "Approximate size to download 923.7 MB\n",
            "[OK!]\n"
          ]
        }
      ]
    },
    {
      "cell_type": "code",
      "metadata": {
        "id": "eQEvnJa961_4"
      },
      "source": [
        "pipelineModel = pipeline.fit(train) "
      ],
      "execution_count": 65,
      "outputs": []
    },
    {
      "cell_type": "code",
      "metadata": {
        "id": "2r8Mts9w62C9"
      },
      "source": [
        "pred_valid = pipelineModel.transform(valid) "
      ],
      "execution_count": 66,
      "outputs": []
    },
    {
      "cell_type": "code",
      "metadata": {
        "colab": {
          "base_uri": "https://localhost:8080/"
        },
        "id": "ValAwbNO3jyo",
        "outputId": "e503153e-1cbd-49a1-f31d-795eb12eef75"
      },
      "source": [
        "pred_valid.select('label', 'text', 'class.result').show() "
      ],
      "execution_count": 69,
      "outputs": [
        {
          "output_type": "stream",
          "name": "stdout",
          "text": [
            "+--------+--------------------+----------+\n",
            "|   label|                text|    result|\n",
            "+--------+--------------------+----------+\n",
            "|positive|After Racism, Rur...|[positive]|\n",
            "|negative|Ah, Lucio Fulci, ...|[negative]|\n",
            "|positive|I waited until th...|[positive]|\n",
            "|positive|In War, Inc we fi...|[positive]|\n",
            "|positive|The message of a ...|[positive]|\n",
            "|negative|Two days after se...|[negative]|\n",
            "|positive|xica da Silva is ...|[positive]|\n",
            "|negative|All you really ne...|[negative]|\n",
            "|positive|Bill Paxton, of A...|[positive]|\n",
            "|positive|I went to see it ...|[positive]|\n",
            "|negative|I wish I could sa...|[negative]|\n",
            "|negative|I've read all the...|[positive]|\n",
            "|negative|If you are the so...|[positive]|\n",
            "|negative|Movie: There are ...|[negative]|\n",
            "|negative|The only possible...|[negative]|\n",
            "|negative|This early B entr...|[positive]|\n",
            "|negative|Well, basically, ...|[negative]|\n",
            "|positive|Clair Denis again...|[positive]|\n",
            "|negative|Cliff Robertson a...|[negative]|\n",
            "|positive|Daniel Day Lewis ...|[positive]|\n",
            "+--------+--------------------+----------+\n",
            "only showing top 20 rows\n",
            "\n"
          ]
        }
      ]
    },
    {
      "cell_type": "code",
      "metadata": {
        "id": "5l53QRlx3j1h"
      },
      "source": [
        "pred_valid_df = pred_valid.select('label', 'text', 'class.result').toPandas() "
      ],
      "execution_count": 70,
      "outputs": []
    },
    {
      "cell_type": "code",
      "metadata": {
        "id": "7svtBARl7fxm"
      },
      "source": [
        "pred_valid_df['result'] = pred_valid_df['result'].apply(lambda x: x[0]) "
      ],
      "execution_count": 71,
      "outputs": []
    },
    {
      "cell_type": "code",
      "metadata": {
        "colab": {
          "base_uri": "https://localhost:8080/"
        },
        "id": "oRQwVuqU7f0p",
        "outputId": "1777b94a-3324-4c95-f3e9-d914b6d29f4d"
      },
      "source": [
        "print(\"Accuracy score is :{}\".format(accuracy_score(pred_valid_df['result'], pred_valid_df['label'])))"
      ],
      "execution_count": 73,
      "outputs": [
        {
          "output_type": "stream",
          "name": "stdout",
          "text": [
            "Accuracy score is :0.8469428007889547\n"
          ]
        }
      ]
    },
    {
      "cell_type": "code",
      "metadata": {
        "colab": {
          "base_uri": "https://localhost:8080/"
        },
        "id": "Th11IPLb7f3v",
        "outputId": "3dd25ac6-46ef-4e2b-8b4c-7fc349e990d5"
      },
      "source": [
        "# classification report \n",
        "print(classification_report(pred_valid_df['result'], pred_valid_df['label'])) "
      ],
      "execution_count": 74,
      "outputs": [
        {
          "output_type": "stream",
          "name": "stdout",
          "text": [
            "              precision    recall  f1-score   support\n",
            "\n",
            "    negative       0.86      0.84      0.85      1299\n",
            "    positive       0.83      0.86      0.85      1236\n",
            "\n",
            "    accuracy                           0.85      2535\n",
            "   macro avg       0.85      0.85      0.85      2535\n",
            "weighted avg       0.85      0.85      0.85      2535\n",
            "\n"
          ]
        }
      ]
    },
    {
      "cell_type": "code",
      "metadata": {
        "colab": {
          "base_uri": "https://localhost:8080/",
          "height": 592
        },
        "id": "5Ybbvwml7lnq",
        "outputId": "66e648f8-5261-4bcf-bf0b-af90a15ee0bc"
      },
      "source": [
        "# Confusion Matrix \n",
        "plt.figure(figsize=(15, 10))\n",
        "sns.heatmap(confusion_matrix(pred_valid_df['result'], pred_valid_df['label']), annot=True)\n",
        "plt.show() "
      ],
      "execution_count": 75,
      "outputs": [
        {
          "output_type": "display_data",
          "data": {
            "image/png": "[encoded data removed]",
            "text/plain": [
              "<Figure size 1080x720 with 2 Axes>"
            ]
          },
          "metadata": {
            "needs_background": "light"
          }
        }
      ]
    },
    {
      "cell_type": "code",
      "metadata": {
        "id": "nZBGvIiX7lqw"
      },
      "source": [
        ""
      ],
      "execution_count": null,
      "outputs": []
    },
    {
      "cell_type": "markdown",
      "metadata": {
        "id": "Lzl9Wzx9T3Jb"
      },
      "source": [
        "# Sentiment Analysis Using Pipeline"
      ]
    },
    {
      "cell_type": "code",
      "metadata": {
        "id": "Jj2EptIOT2ac",
        "colab": {
          "base_uri": "https://localhost:8080/"
        },
        "outputId": "065f83a2-c4ac-40be-dfd4-da715270da61"
      },
      "source": [
        "pipeline = PretrainedPipeline(\"analyze_sentiment\", lang='en') "
      ],
      "execution_count": 80,
      "outputs": [
        {
          "output_type": "stream",
          "name": "stdout",
          "text": [
            "analyze_sentiment download started this may take some time.\n",
            "Approx size to download 4.9 MB\n",
            "[OK!]\n"
          ]
        }
      ]
    },
    {
      "cell_type": "code",
      "metadata": {
        "id": "I8A0UjdMT2dV"
      },
      "source": [
        "data = [\"I felt so disapointed to see this very uninspired film. I recommend others to awoid this movie is not good.\", \n",
        "        \"This was movie was amesome, everything was nice.\"] "
      ],
      "execution_count": 81,
      "outputs": []
    },
    {
      "cell_type": "code",
      "metadata": {
        "id": "373GiTVxT2f9"
      },
      "source": [
        "result = pipeline.annotate(data)"
      ],
      "execution_count": 82,
      "outputs": []
    },
    {
      "cell_type": "code",
      "metadata": {
        "id": "5b9uMQ8AT2jd",
        "colab": {
          "base_uri": "https://localhost:8080/"
        },
        "outputId": "769b801d-bb35-4bd1-8354-62e3c198dea9"
      },
      "source": [
        "[(r['sentence'], r['sentiment']) for r in result] "
      ],
      "execution_count": 83,
      "outputs": [
        {
          "output_type": "execute_result",
          "data": {
            "text/plain": [
              "[(['I felt so disapointed to see this very uninspired film.',\n",
              "   'I recommend others to awoid this movie is not good.'],\n",
              "  ['positive', 'negative']),\n",
              " (['This was movie was amesome, everything was nice.'], ['negative'])]"
            ]
          },
          "metadata": {},
          "execution_count": 83
        }
      ]
    },
    {
      "cell_type": "code",
      "metadata": {
        "id": "DnXzP4DuT2lm",
        "colab": {
          "base_uri": "https://localhost:8080/"
        },
        "outputId": "5a2d708a-ab69-4322-d5b9-fd4331335ada"
      },
      "source": [
        "result"
      ],
      "execution_count": 84,
      "outputs": [
        {
          "output_type": "execute_result",
          "data": {
            "text/plain": [
              "[{'checked': ['I',\n",
              "   'felt',\n",
              "   'so',\n",
              "   'disappointed',\n",
              "   'to',\n",
              "   'see',\n",
              "   'this',\n",
              "   'very',\n",
              "   'uninspired',\n",
              "   'film',\n",
              "   '.',\n",
              "   'I',\n",
              "   'recommend',\n",
              "   'others',\n",
              "   'to',\n",
              "   'avoid',\n",
              "   'this',\n",
              "   'movie',\n",
              "   'is',\n",
              "   'not',\n",
              "   'good',\n",
              "   '.'],\n",
              "  'document': ['I felt so disapointed to see this very uninspired film. I recommend others to awoid this movie is not good.'],\n",
              "  'sentence': ['I felt so disapointed to see this very uninspired film.',\n",
              "   'I recommend others to awoid this movie is not good.'],\n",
              "  'sentiment': ['positive', 'negative'],\n",
              "  'token': ['I',\n",
              "   'felt',\n",
              "   'so',\n",
              "   'disapointed',\n",
              "   'to',\n",
              "   'see',\n",
              "   'this',\n",
              "   'very',\n",
              "   'uninspired',\n",
              "   'film',\n",
              "   '.',\n",
              "   'I',\n",
              "   'recommend',\n",
              "   'others',\n",
              "   'to',\n",
              "   'awoid',\n",
              "   'this',\n",
              "   'movie',\n",
              "   'is',\n",
              "   'not',\n",
              "   'good',\n",
              "   '.']},\n",
              " {'checked': ['This',\n",
              "   'was',\n",
              "   'movie',\n",
              "   'was',\n",
              "   'awesome',\n",
              "   ',',\n",
              "   'everything',\n",
              "   'was',\n",
              "   'nice',\n",
              "   '.'],\n",
              "  'document': ['This was movie was amesome, everything was nice.'],\n",
              "  'sentence': ['This was movie was amesome, everything was nice.'],\n",
              "  'sentiment': ['negative'],\n",
              "  'token': ['This',\n",
              "   'was',\n",
              "   'movie',\n",
              "   'was',\n",
              "   'amesome',\n",
              "   ',',\n",
              "   'everything',\n",
              "   'was',\n",
              "   'nice',\n",
              "   '.']}]"
            ]
          },
          "metadata": {},
          "execution_count": 84
        }
      ]
    },
    {
      "cell_type": "code",
      "metadata": {
        "id": "-5A4s0fTT2o9"
      },
      "source": [
        ""
      ],
      "execution_count": null,
      "outputs": []
    }
  ]
}